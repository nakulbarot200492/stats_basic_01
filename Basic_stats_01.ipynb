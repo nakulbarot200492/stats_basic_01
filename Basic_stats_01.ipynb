{
 "cells": [
  {
   "cell_type": "markdown",
   "id": "16edc335-3054-43ea-99f3-3f46ef005867",
   "metadata": {},
   "source": [
    "### Q1. What is Statistics?"
   ]
  },
  {
   "cell_type": "raw",
   "id": "1276be5e-7a33-41f1-bacd-46f7dc742a56",
   "metadata": {},
   "source": [
    "Statistics is the science of collecting, analyzing, interpreting, and presenting data. It involves methods for describing and drawing inferences from data to make decisions or predictions."
   ]
  },
  {
   "cell_type": "markdown",
   "id": "b6ea7fb4-72a9-4394-aa45-b681d8117783",
   "metadata": {},
   "source": [
    "### Q2. Define the different types of statistics and give an example of when each type might be used."
   ]
  },
  {
   "cell_type": "raw",
   "id": "cde40414-41ee-427b-a319-3d565e8162fb",
   "metadata": {},
   "source": [
    "There are two main types of statistics:\n",
    "\n",
    "1. Descriptive Statistics: Summarizes and describes data.\n",
    "Example: Calculating the average test score of a class.\n",
    "\n",
    "2. Inferential Statistics: Makes predictions or inferences about a population based on a sample.\n",
    "Example: Estimating the average height of all adults in a country based on a sample of 1000 people."
   ]
  },
  {
   "cell_type": "markdown",
   "id": "5fad106f-ef4e-498c-a294-2a7a875b7705",
   "metadata": {},
   "source": [
    "### Q3. What are the different types of data and how do they differ from each other? Provide an example of each type of data."
   ]
  },
  {
   "cell_type": "markdown",
   "id": "3818b94d-cfa0-4455-9c99-cd5ceea1c592",
   "metadata": {},
   "source": [
    "There are two main types of data:\n",
    "\n",
    "1. Qualitative (Categorical) Data: Non-numeric data that can be categorized.\n",
    "\n",
    "        Nominal: Categories with no inherent order. Example: Hair color (blonde, brown, black)\n",
    "        Ordinal: Categories with a meaningful order. Example: Education level (high school, bachelor's, master's)\n",
    "\n",
    "\n",
    "\n",
    "\n",
    "2. Quantitative (Numerical) Data: Numeric data that can be measured.\n",
    "\n",
    "        Discrete: Countable values. Example: Number of children in a family\n",
    "        Continuous: Measurable values within a range. Example: Height or weight"
   ]
  },
  {
   "cell_type": "markdown",
   "id": "304e5950-3586-4a08-8bf7-e74288102f00",
   "metadata": {},
   "source": [
    "### Q4. Categorise the following datasets with respect to quantitative and qualitative data types:\n",
    "##### (i) Grading in exam: A+, A, B+, B, C+, C, D, E\n",
    "##### (ii) Colour of mangoes: yellow, green, orange, red\n",
    "##### (iii) Height data of a class: [178.9, 179, 179.5, 176, 177.2, 178.3, 175.8,...]\n",
    "##### (iv) Number of mangoes exported by a farm: [500, 600, 478, 672, ...]\n",
    "\n",
    "\n",
    "\n",
    "### Solutions\n",
    "(i) Grading in exam: A+, A, B+, B, C+, C, D, E\n",
    "Qualitative (Ordinal)\n",
    "(ii) Colour of mangoes: yellow, green, orange, red\n",
    "Qualitative (Nominal)\n",
    "(iii) Height data of a class: [178.9, 179, 179.5, 176, 177.2, 178.3, 175.8,...]\n",
    "Quantitative (Continuous)\n",
    "(iv) Number of mangoes exported by a farm: [500, 600, 478, 672, …]\n",
    "Quantitative (Discrete)"
   ]
  },
  {
   "cell_type": "markdown",
   "id": "7d3f6fab-fec7-409f-9e67-46a7bcb15ca3",
   "metadata": {},
   "source": [
    "### Q5. Explain the concept of levels of measurement and give an example of a variable for each level."
   ]
  },
  {
   "cell_type": "raw",
   "id": "03171df7-f05a-447c-8fc0-bc894a537140",
   "metadata": {},
   "source": [
    "Levels of measurement describe the nature of information within the values assigned to variables:\n",
    "\n",
    "Nominal: Categories with no order. Example: Types of pets (cat, dog, fish)\n",
    "Ordinal: Ordered categories. Example: Customer satisfaction (poor, fair, good, excellent)\n",
    "Interval: Numeric scale with meaningful intervals, but no true zero. Example: Temperature in Celsius\n",
    "Ratio: Numeric scale with meaningful intervals and a true zero. Example: Height in centimeters"
   ]
  },
  {
   "cell_type": "markdown",
   "id": "e41ec973-ecbb-4dfb-a086-2c0cfe11ddfa",
   "metadata": {},
   "source": [
    "### Q6. Why is it important to understand the level of measurement when analyzing data? Provide an example to illustrate your answer."
   ]
  },
  {
   "cell_type": "raw",
   "id": "113d72fd-677a-40c2-863a-11d56c7d6326",
   "metadata": {},
   "source": [
    "Understanding the level of measurement is crucial because it determines which statistical analyses are appropriate and meaningful. For example, you can calculate the mean of ratio data (like income) but not of nominal data (like eye color). Treating ordinal data (like education level) as if it were interval data could lead to incorrect conclusions about the relationships between variables.\n"
   ]
  },
  {
   "cell_type": "markdown",
   "id": "0146261b-3908-4e23-a46a-233e9f0bb824",
   "metadata": {},
   "source": [
    "### Q7. How nominal data type is different from ordinal data type."
   ]
  },
  {
   "cell_type": "raw",
   "id": "2c047ce0-4c44-4035-917e-7d3957a26fb8",
   "metadata": {},
   "source": [
    "Nominal data consists of categories with no inherent order, while ordinal data has categories with a meaningful order. For example, hair color (blonde, brown, black) is nominal because there's no natural ordering. Education level (high school, bachelor's, master's) is ordinal because there's a clear progression."
   ]
  },
  {
   "cell_type": "markdown",
   "id": "9776afc9-7c13-4e78-9983-7a7f24b8f397",
   "metadata": {},
   "source": [
    "### Q8. Which type of plot can be used to display data in terms of range?"
   ]
  },
  {
   "cell_type": "raw",
   "id": "ed79f75d-68ed-4b2c-98cc-35fc4055eac6",
   "metadata": {},
   "source": [
    "Box plots (also called box-and-whisker plots) are excellent for displaying data in terms of range. They show the minimum, first quartile, median, third quartile, and maximum of a dataset, giving a clear visual representation of the data's range and distribution."
   ]
  },
  {
   "cell_type": "markdown",
   "id": "06cd58d5-22b5-4907-9068-3411a82ef3ef",
   "metadata": {},
   "source": [
    "### Q9. Describe the difference between descriptive and inferential statistics. Give an example of each type of statistics and explain how they are used. "
   ]
  },
  {
   "cell_type": "raw",
   "id": "42a8925d-0481-433a-a448-1871bcd6554b",
   "metadata": {},
   "source": [
    "Descriptive statistics summarize and describe data, while inferential statistics make predictions or inferences about a population based on a sample.\n",
    "Example of descriptive statistics: Calculating the mean and standard deviation of test scores in a class. This describes the central tendency and spread of the scores.\n",
    "Example of inferential statistics: Using a sample of voters to predict the outcome of an election. This infers information about the entire population of voters based on a smaller sample."
   ]
  },
  {
   "cell_type": "markdown",
   "id": "10114ac8-ad49-41dc-ae27-5d25461e4163",
   "metadata": {},
   "source": [
    "### Q10. What are some common measures of central tendency and variability used in statistics? Explain how each measure can be used to describe a dataset."
   ]
  },
  {
   "cell_type": "raw",
   "id": "f6750282-a54b-4522-b539-92c044b2c9ed",
   "metadata": {},
   "source": [
    "Measures of Central Tendency:\n",
    "\n",
    "Mean: Average of all values. Used to describe the typical value in a symmetric distribution.\n",
    "Median: Middle value when data is ordered. Used for skewed distributions or when outliers are present.\n",
    "Mode: Most frequent value. Used for categorical data or to identify the most common value.\n",
    "\n",
    "Measures of Variability:\n",
    "\n",
    "Range: Difference between the maximum and minimum values. Gives a quick idea of spread.\n",
    "Variance: Average of squared deviations from the mean. Measures overall variability.\n",
    "Standard Deviation: Square root of variance. Describes typical distance from the mean.\n",
    "Interquartile Range (IQR): Difference between 3rd and 1st quartiles. Robust measure of spread.\n",
    "\n",
    "These measures help describe the central tendency and spread of a dataset, providing a comprehensive summary of its characteristics."
   ]
  },
  {
   "cell_type": "code",
   "execution_count": null,
   "id": "4661f872-97a7-44b5-b7dc-46c0ba3e694f",
   "metadata": {},
   "outputs": [],
   "source": []
  }
 ],
 "metadata": {
  "kernelspec": {
   "display_name": "Python 3 (ipykernel)",
   "language": "python",
   "name": "python3"
  },
  "language_info": {
   "codemirror_mode": {
    "name": "ipython",
    "version": 3
   },
   "file_extension": ".py",
   "mimetype": "text/x-python",
   "name": "python",
   "nbconvert_exporter": "python",
   "pygments_lexer": "ipython3",
   "version": "3.10.8"
  }
 },
 "nbformat": 4,
 "nbformat_minor": 5
}
